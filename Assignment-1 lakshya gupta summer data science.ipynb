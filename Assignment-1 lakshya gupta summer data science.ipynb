{
 "cells": [
  {
   "cell_type": "code",
   "execution_count": 1,
   "id": "9dafa7f1-15c2-4c9c-bd07-cdbceb5d155f",
   "metadata": {},
   "outputs": [],
   "source": [
    "# Start by importing all important libraries\n",
    "import numpy as np\n",
    "import pandas as pd\n",
    "import matplotlib.pyplot as plt\n",
    "import seaborn as sns"
   ]
  },
  {
   "cell_type": "code",
   "execution_count": 2,
   "id": "0ba97faf-d64d-4bd1-adaa-d79198992f85",
   "metadata": {},
   "outputs": [],
   "source": [
    "# 2) Read the csv file and assign it to a variable \n",
    "cars=pd.read_csv('cars.csv')"
   ]
  },
  {
   "cell_type": "code",
   "execution_count": 3,
   "id": "c6e936d5-c63c-4421-a4fe-58ebcfc36428",
   "metadata": {},
   "outputs": [
    {
     "data": {
      "text/html": [
       "<div>\n",
       "<style scoped>\n",
       "    .dataframe tbody tr th:only-of-type {\n",
       "        vertical-align: middle;\n",
       "    }\n",
       "\n",
       "    .dataframe tbody tr th {\n",
       "        vertical-align: top;\n",
       "    }\n",
       "\n",
       "    .dataframe thead th {\n",
       "        text-align: right;\n",
       "    }\n",
       "</style>\n",
       "<table border=\"1\" class=\"dataframe\">\n",
       "  <thead>\n",
       "    <tr style=\"text-align: right;\">\n",
       "      <th></th>\n",
       "      <th>mpg</th>\n",
       "      <th>cylinders</th>\n",
       "      <th>displacement</th>\n",
       "      <th>horsepower</th>\n",
       "      <th>weight</th>\n",
       "      <th>acceleration</th>\n",
       "      <th>model_year</th>\n",
       "      <th>origin</th>\n",
       "      <th>name</th>\n",
       "    </tr>\n",
       "  </thead>\n",
       "  <tbody>\n",
       "    <tr>\n",
       "      <th>0</th>\n",
       "      <td>18.0</td>\n",
       "      <td>8</td>\n",
       "      <td>307.0</td>\n",
       "      <td>130.0</td>\n",
       "      <td>3504</td>\n",
       "      <td>12.0</td>\n",
       "      <td>70</td>\n",
       "      <td>usa</td>\n",
       "      <td>chevrolet chevelle malibu</td>\n",
       "    </tr>\n",
       "    <tr>\n",
       "      <th>1</th>\n",
       "      <td>15.0</td>\n",
       "      <td>8</td>\n",
       "      <td>350.0</td>\n",
       "      <td>165.0</td>\n",
       "      <td>3693</td>\n",
       "      <td>11.5</td>\n",
       "      <td>70</td>\n",
       "      <td>usa</td>\n",
       "      <td>buick skylark 320</td>\n",
       "    </tr>\n",
       "    <tr>\n",
       "      <th>2</th>\n",
       "      <td>18.0</td>\n",
       "      <td>8</td>\n",
       "      <td>318.0</td>\n",
       "      <td>150.0</td>\n",
       "      <td>3436</td>\n",
       "      <td>11.0</td>\n",
       "      <td>70</td>\n",
       "      <td>usa</td>\n",
       "      <td>plymouth satellite</td>\n",
       "    </tr>\n",
       "    <tr>\n",
       "      <th>3</th>\n",
       "      <td>16.0</td>\n",
       "      <td>8</td>\n",
       "      <td>304.0</td>\n",
       "      <td>150.0</td>\n",
       "      <td>3433</td>\n",
       "      <td>12.0</td>\n",
       "      <td>70</td>\n",
       "      <td>usa</td>\n",
       "      <td>amc rebel sst</td>\n",
       "    </tr>\n",
       "    <tr>\n",
       "      <th>4</th>\n",
       "      <td>17.0</td>\n",
       "      <td>8</td>\n",
       "      <td>302.0</td>\n",
       "      <td>140.0</td>\n",
       "      <td>3449</td>\n",
       "      <td>10.5</td>\n",
       "      <td>70</td>\n",
       "      <td>usa</td>\n",
       "      <td>ford torino</td>\n",
       "    </tr>\n",
       "  </tbody>\n",
       "</table>\n",
       "</div>"
      ],
      "text/plain": [
       "    mpg  cylinders  displacement  horsepower  weight  acceleration  \\\n",
       "0  18.0          8         307.0       130.0    3504          12.0   \n",
       "1  15.0          8         350.0       165.0    3693          11.5   \n",
       "2  18.0          8         318.0       150.0    3436          11.0   \n",
       "3  16.0          8         304.0       150.0    3433          12.0   \n",
       "4  17.0          8         302.0       140.0    3449          10.5   \n",
       "\n",
       "   model_year origin                       name  \n",
       "0          70    usa  chevrolet chevelle malibu  \n",
       "1          70    usa          buick skylark 320  \n",
       "2          70    usa         plymouth satellite  \n",
       "3          70    usa              amc rebel sst  \n",
       "4          70    usa                ford torino  "
      ]
     },
     "execution_count": 3,
     "metadata": {},
     "output_type": "execute_result"
    }
   ],
   "source": [
    "cars.head()"
   ]
  },
  {
   "cell_type": "code",
   "execution_count": 4,
   "id": "b6da9b18-500d-4132-a2c5-04ec57b1b60f",
   "metadata": {},
   "outputs": [
    {
     "data": {
      "text/plain": [
       "(398, 9)"
      ]
     },
     "execution_count": 4,
     "metadata": {},
     "output_type": "execute_result"
    }
   ],
   "source": [
    "# 3) Display shape of dataframe\n",
    "cars.shape"
   ]
  },
  {
   "cell_type": "code",
   "execution_count": 5,
   "id": "f0d7e261-1587-4a97-b022-038462a5ed08",
   "metadata": {},
   "outputs": [
    {
     "data": {
      "text/plain": [
       "Index(['mpg', 'cylinders', 'displacement', 'horsepower', 'weight',\n",
       "       'acceleration', 'model_year', 'origin', 'name'],\n",
       "      dtype='object')"
      ]
     },
     "execution_count": 5,
     "metadata": {},
     "output_type": "execute_result"
    }
   ],
   "source": [
    "# 4) Print all columns of dataframe\n",
    "cars.columns"
   ]
  },
  {
   "cell_type": "code",
   "execution_count": 6,
   "id": "e9f022f4-5d33-459a-982c-0c6f8b0e0650",
   "metadata": {},
   "outputs": [
    {
     "data": {
      "text/html": [
       "<div>\n",
       "<style scoped>\n",
       "    .dataframe tbody tr th:only-of-type {\n",
       "        vertical-align: middle;\n",
       "    }\n",
       "\n",
       "    .dataframe tbody tr th {\n",
       "        vertical-align: top;\n",
       "    }\n",
       "\n",
       "    .dataframe thead th {\n",
       "        text-align: right;\n",
       "    }\n",
       "</style>\n",
       "<table border=\"1\" class=\"dataframe\">\n",
       "  <thead>\n",
       "    <tr style=\"text-align: right;\">\n",
       "      <th></th>\n",
       "      <th>mpg</th>\n",
       "      <th>cylinders</th>\n",
       "      <th>displacement</th>\n",
       "      <th>horsepower</th>\n",
       "      <th>weight</th>\n",
       "      <th>acceleration</th>\n",
       "      <th>model_year</th>\n",
       "      <th>origin</th>\n",
       "      <th>name</th>\n",
       "    </tr>\n",
       "    <tr>\n",
       "      <th>name</th>\n",
       "      <th></th>\n",
       "      <th></th>\n",
       "      <th></th>\n",
       "      <th></th>\n",
       "      <th></th>\n",
       "      <th></th>\n",
       "      <th></th>\n",
       "      <th></th>\n",
       "      <th></th>\n",
       "    </tr>\n",
       "  </thead>\n",
       "  <tbody>\n",
       "    <tr>\n",
       "      <th>chevrolet chevelle malibu</th>\n",
       "      <td>18.0</td>\n",
       "      <td>8</td>\n",
       "      <td>307.0</td>\n",
       "      <td>130.0</td>\n",
       "      <td>3504</td>\n",
       "      <td>12.0</td>\n",
       "      <td>70</td>\n",
       "      <td>usa</td>\n",
       "      <td>chevrolet chevelle malibu</td>\n",
       "    </tr>\n",
       "    <tr>\n",
       "      <th>buick skylark 320</th>\n",
       "      <td>15.0</td>\n",
       "      <td>8</td>\n",
       "      <td>350.0</td>\n",
       "      <td>165.0</td>\n",
       "      <td>3693</td>\n",
       "      <td>11.5</td>\n",
       "      <td>70</td>\n",
       "      <td>usa</td>\n",
       "      <td>buick skylark 320</td>\n",
       "    </tr>\n",
       "    <tr>\n",
       "      <th>plymouth satellite</th>\n",
       "      <td>18.0</td>\n",
       "      <td>8</td>\n",
       "      <td>318.0</td>\n",
       "      <td>150.0</td>\n",
       "      <td>3436</td>\n",
       "      <td>11.0</td>\n",
       "      <td>70</td>\n",
       "      <td>usa</td>\n",
       "      <td>plymouth satellite</td>\n",
       "    </tr>\n",
       "    <tr>\n",
       "      <th>amc rebel sst</th>\n",
       "      <td>16.0</td>\n",
       "      <td>8</td>\n",
       "      <td>304.0</td>\n",
       "      <td>150.0</td>\n",
       "      <td>3433</td>\n",
       "      <td>12.0</td>\n",
       "      <td>70</td>\n",
       "      <td>usa</td>\n",
       "      <td>amc rebel sst</td>\n",
       "    </tr>\n",
       "    <tr>\n",
       "      <th>ford torino</th>\n",
       "      <td>17.0</td>\n",
       "      <td>8</td>\n",
       "      <td>302.0</td>\n",
       "      <td>140.0</td>\n",
       "      <td>3449</td>\n",
       "      <td>10.5</td>\n",
       "      <td>70</td>\n",
       "      <td>usa</td>\n",
       "      <td>ford torino</td>\n",
       "    </tr>\n",
       "    <tr>\n",
       "      <th>...</th>\n",
       "      <td>...</td>\n",
       "      <td>...</td>\n",
       "      <td>...</td>\n",
       "      <td>...</td>\n",
       "      <td>...</td>\n",
       "      <td>...</td>\n",
       "      <td>...</td>\n",
       "      <td>...</td>\n",
       "      <td>...</td>\n",
       "    </tr>\n",
       "    <tr>\n",
       "      <th>ford mustang gl</th>\n",
       "      <td>27.0</td>\n",
       "      <td>4</td>\n",
       "      <td>140.0</td>\n",
       "      <td>86.0</td>\n",
       "      <td>2790</td>\n",
       "      <td>15.6</td>\n",
       "      <td>82</td>\n",
       "      <td>usa</td>\n",
       "      <td>ford mustang gl</td>\n",
       "    </tr>\n",
       "    <tr>\n",
       "      <th>vw pickup</th>\n",
       "      <td>44.0</td>\n",
       "      <td>4</td>\n",
       "      <td>97.0</td>\n",
       "      <td>52.0</td>\n",
       "      <td>2130</td>\n",
       "      <td>24.6</td>\n",
       "      <td>82</td>\n",
       "      <td>europe</td>\n",
       "      <td>vw pickup</td>\n",
       "    </tr>\n",
       "    <tr>\n",
       "      <th>dodge rampage</th>\n",
       "      <td>32.0</td>\n",
       "      <td>4</td>\n",
       "      <td>135.0</td>\n",
       "      <td>84.0</td>\n",
       "      <td>2295</td>\n",
       "      <td>11.6</td>\n",
       "      <td>82</td>\n",
       "      <td>usa</td>\n",
       "      <td>dodge rampage</td>\n",
       "    </tr>\n",
       "    <tr>\n",
       "      <th>ford ranger</th>\n",
       "      <td>28.0</td>\n",
       "      <td>4</td>\n",
       "      <td>120.0</td>\n",
       "      <td>79.0</td>\n",
       "      <td>2625</td>\n",
       "      <td>18.6</td>\n",
       "      <td>82</td>\n",
       "      <td>usa</td>\n",
       "      <td>ford ranger</td>\n",
       "    </tr>\n",
       "    <tr>\n",
       "      <th>chevy s-10</th>\n",
       "      <td>31.0</td>\n",
       "      <td>4</td>\n",
       "      <td>119.0</td>\n",
       "      <td>82.0</td>\n",
       "      <td>2720</td>\n",
       "      <td>19.4</td>\n",
       "      <td>82</td>\n",
       "      <td>usa</td>\n",
       "      <td>chevy s-10</td>\n",
       "    </tr>\n",
       "  </tbody>\n",
       "</table>\n",
       "<p>398 rows × 9 columns</p>\n",
       "</div>"
      ],
      "text/plain": [
       "                            mpg  cylinders  displacement  horsepower  weight  \\\n",
       "name                                                                           \n",
       "chevrolet chevelle malibu  18.0          8         307.0       130.0    3504   \n",
       "buick skylark 320          15.0          8         350.0       165.0    3693   \n",
       "plymouth satellite         18.0          8         318.0       150.0    3436   \n",
       "amc rebel sst              16.0          8         304.0       150.0    3433   \n",
       "ford torino                17.0          8         302.0       140.0    3449   \n",
       "...                         ...        ...           ...         ...     ...   \n",
       "ford mustang gl            27.0          4         140.0        86.0    2790   \n",
       "vw pickup                  44.0          4          97.0        52.0    2130   \n",
       "dodge rampage              32.0          4         135.0        84.0    2295   \n",
       "ford ranger                28.0          4         120.0        79.0    2625   \n",
       "chevy s-10                 31.0          4         119.0        82.0    2720   \n",
       "\n",
       "                           acceleration  model_year  origin  \\\n",
       "name                                                          \n",
       "chevrolet chevelle malibu          12.0          70     usa   \n",
       "buick skylark 320                  11.5          70     usa   \n",
       "plymouth satellite                 11.0          70     usa   \n",
       "amc rebel sst                      12.0          70     usa   \n",
       "ford torino                        10.5          70     usa   \n",
       "...                                 ...         ...     ...   \n",
       "ford mustang gl                    15.6          82     usa   \n",
       "vw pickup                          24.6          82  europe   \n",
       "dodge rampage                      11.6          82     usa   \n",
       "ford ranger                        18.6          82     usa   \n",
       "chevy s-10                         19.4          82     usa   \n",
       "\n",
       "                                                name  \n",
       "name                                                  \n",
       "chevrolet chevelle malibu  chevrolet chevelle malibu  \n",
       "buick skylark 320                  buick skylark 320  \n",
       "plymouth satellite                plymouth satellite  \n",
       "amc rebel sst                          amc rebel sst  \n",
       "ford torino                              ford torino  \n",
       "...                                              ...  \n",
       "ford mustang gl                      ford mustang gl  \n",
       "vw pickup                                  vw pickup  \n",
       "dodge rampage                          dodge rampage  \n",
       "ford ranger                              ford ranger  \n",
       "chevy s-10                                chevy s-10  \n",
       "\n",
       "[398 rows x 9 columns]"
      ]
     },
     "execution_count": 6,
     "metadata": {},
     "output_type": "execute_result"
    }
   ],
   "source": [
    "# Set the 'name' column as the index of dataframE\n",
    "cars.set_index('name', drop=False)"
   ]
  },
  {
   "cell_type": "code",
   "execution_count": 7,
   "id": "4ea2fd37-a928-487d-9173-8cb576938279",
   "metadata": {},
   "outputs": [
    {
     "data": {
      "text/plain": [
       "array([18. , 15. , 16. , 17. , 14. , 24. , 22. , 21. , 27. , 26. , 25. ,\n",
       "       10. , 11. ,  9. , 28. , 19. , 12. , 13. , 23. , 30. , 31. , 35. ,\n",
       "       20. , 29. , 32. , 33. , 17.5, 15.5, 14.5, 22.5, 24.5, 18.5, 29.5,\n",
       "       26.5, 16.5, 31.5, 36. , 25.5, 33.5, 20.5, 30.5, 21.5, 43.1, 36.1,\n",
       "       32.8, 39.4, 19.9, 19.4, 20.2, 19.2, 25.1, 20.6, 20.8, 18.6, 18.1,\n",
       "       17.7, 27.5, 27.2, 30.9, 21.1, 23.2, 23.8, 23.9, 20.3, 21.6, 16.2,\n",
       "       19.8, 22.3, 17.6, 18.2, 16.9, 31.9, 34.1, 35.7, 27.4, 25.4, 34.2,\n",
       "       34.5, 31.8, 37.3, 28.4, 28.8, 26.8, 41.5, 38.1, 32.1, 37.2, 26.4,\n",
       "       24.3, 19.1, 34.3, 29.8, 31.3, 37. , 32.2, 46.6, 27.9, 40.8, 44.3,\n",
       "       43.4, 36.4, 44.6, 40.9, 33.8, 32.7, 23.7, 23.6, 32.4, 26.6, 25.8,\n",
       "       23.5, 39.1, 39. , 35.1, 32.3, 37.7, 34.7, 34.4, 29.9, 33.7, 32.9,\n",
       "       31.6, 28.1, 30.7, 24.2, 22.4, 34. , 38. , 44. ])"
      ]
     },
     "execution_count": 7,
     "metadata": {},
     "output_type": "execute_result"
    }
   ],
   "source": [
    "# 7) Print a list of all the unique mpg values\n",
    "unique_mpg=cars['mpg'].unique()\n",
    "unique_mpg"
   ]
  },
  {
   "cell_type": "code",
   "execution_count": 8,
   "id": "3ed6aae9-f720-460a-9332-c7101a0e631e",
   "metadata": {},
   "outputs": [],
   "source": [
    "# 8) Create a column which contains the horsepower divided by weightas its metric and make this new column the index.\n",
    "cars['hp_per_weight'] = cars['horsepower'] / cars['weight']"
   ]
  },
  {
   "cell_type": "code",
   "execution_count": 9,
   "id": "38001272-4b43-46c1-a0ec-c727b6cb35a1",
   "metadata": {},
   "outputs": [
    {
     "data": {
      "text/html": [
       "<div>\n",
       "<style scoped>\n",
       "    .dataframe tbody tr th:only-of-type {\n",
       "        vertical-align: middle;\n",
       "    }\n",
       "\n",
       "    .dataframe tbody tr th {\n",
       "        vertical-align: top;\n",
       "    }\n",
       "\n",
       "    .dataframe thead th {\n",
       "        text-align: right;\n",
       "    }\n",
       "</style>\n",
       "<table border=\"1\" class=\"dataframe\">\n",
       "  <thead>\n",
       "    <tr style=\"text-align: right;\">\n",
       "      <th></th>\n",
       "      <th>mpg</th>\n",
       "      <th>cylinders</th>\n",
       "      <th>displacement</th>\n",
       "      <th>horsepower</th>\n",
       "      <th>weight</th>\n",
       "      <th>acceleration</th>\n",
       "      <th>model_year</th>\n",
       "      <th>origin</th>\n",
       "      <th>name</th>\n",
       "      <th>hp_per_weight</th>\n",
       "    </tr>\n",
       "    <tr>\n",
       "      <th>hp_per_weight</th>\n",
       "      <th></th>\n",
       "      <th></th>\n",
       "      <th></th>\n",
       "      <th></th>\n",
       "      <th></th>\n",
       "      <th></th>\n",
       "      <th></th>\n",
       "      <th></th>\n",
       "      <th></th>\n",
       "      <th></th>\n",
       "    </tr>\n",
       "  </thead>\n",
       "  <tbody>\n",
       "    <tr>\n",
       "      <th>0.037100</th>\n",
       "      <td>18.0</td>\n",
       "      <td>8</td>\n",
       "      <td>307.0</td>\n",
       "      <td>130.0</td>\n",
       "      <td>3504</td>\n",
       "      <td>12.0</td>\n",
       "      <td>70</td>\n",
       "      <td>usa</td>\n",
       "      <td>chevrolet chevelle malibu</td>\n",
       "      <td>0.037100</td>\n",
       "    </tr>\n",
       "    <tr>\n",
       "      <th>0.044679</th>\n",
       "      <td>15.0</td>\n",
       "      <td>8</td>\n",
       "      <td>350.0</td>\n",
       "      <td>165.0</td>\n",
       "      <td>3693</td>\n",
       "      <td>11.5</td>\n",
       "      <td>70</td>\n",
       "      <td>usa</td>\n",
       "      <td>buick skylark 320</td>\n",
       "      <td>0.044679</td>\n",
       "    </tr>\n",
       "    <tr>\n",
       "      <th>0.043655</th>\n",
       "      <td>18.0</td>\n",
       "      <td>8</td>\n",
       "      <td>318.0</td>\n",
       "      <td>150.0</td>\n",
       "      <td>3436</td>\n",
       "      <td>11.0</td>\n",
       "      <td>70</td>\n",
       "      <td>usa</td>\n",
       "      <td>plymouth satellite</td>\n",
       "      <td>0.043655</td>\n",
       "    </tr>\n",
       "    <tr>\n",
       "      <th>0.043694</th>\n",
       "      <td>16.0</td>\n",
       "      <td>8</td>\n",
       "      <td>304.0</td>\n",
       "      <td>150.0</td>\n",
       "      <td>3433</td>\n",
       "      <td>12.0</td>\n",
       "      <td>70</td>\n",
       "      <td>usa</td>\n",
       "      <td>amc rebel sst</td>\n",
       "      <td>0.043694</td>\n",
       "    </tr>\n",
       "    <tr>\n",
       "      <th>0.040591</th>\n",
       "      <td>17.0</td>\n",
       "      <td>8</td>\n",
       "      <td>302.0</td>\n",
       "      <td>140.0</td>\n",
       "      <td>3449</td>\n",
       "      <td>10.5</td>\n",
       "      <td>70</td>\n",
       "      <td>usa</td>\n",
       "      <td>ford torino</td>\n",
       "      <td>0.040591</td>\n",
       "    </tr>\n",
       "  </tbody>\n",
       "</table>\n",
       "</div>"
      ],
      "text/plain": [
       "                mpg  cylinders  displacement  horsepower  weight  \\\n",
       "hp_per_weight                                                      \n",
       "0.037100       18.0          8         307.0       130.0    3504   \n",
       "0.044679       15.0          8         350.0       165.0    3693   \n",
       "0.043655       18.0          8         318.0       150.0    3436   \n",
       "0.043694       16.0          8         304.0       150.0    3433   \n",
       "0.040591       17.0          8         302.0       140.0    3449   \n",
       "\n",
       "               acceleration  model_year origin                       name  \\\n",
       "hp_per_weight                                                               \n",
       "0.037100               12.0          70    usa  chevrolet chevelle malibu   \n",
       "0.044679               11.5          70    usa          buick skylark 320   \n",
       "0.043655               11.0          70    usa         plymouth satellite   \n",
       "0.043694               12.0          70    usa              amc rebel sst   \n",
       "0.040591               10.5          70    usa                ford torino   \n",
       "\n",
       "               hp_per_weight  \n",
       "hp_per_weight                 \n",
       "0.037100            0.037100  \n",
       "0.044679            0.044679  \n",
       "0.043655            0.043655  \n",
       "0.043694            0.043694  \n",
       "0.040591            0.040591  "
      ]
     },
     "execution_count": 9,
     "metadata": {},
     "output_type": "execute_result"
    }
   ],
   "source": [
    "cars = cars.set_index('hp_per_weight', drop=False)\n",
    "cars.head()"
   ]
  },
  {
   "cell_type": "code",
   "execution_count": null,
   "id": "469fc39d-8aec-44e4-a8e0-bba0bfa7fb5f",
   "metadata": {},
   "outputs": [],
   "source": [
    "# GRADED QUESTION"
   ]
  },
  {
   "cell_type": "code",
   "execution_count": 10,
   "id": "0f383a25-6ac3-4b29-968d-710c36573544",
   "metadata": {},
   "outputs": [
    {
     "name": "stdout",
     "output_type": "stream",
     "text": [
      "Car with highest horsepower: pontiac grand prix\n"
     ]
    }
   ],
   "source": [
    "# 1. What is name of car that has the highest horsepower?\n",
    "car_with_max_hp = cars.loc[cars['horsepower'].idxmax()]\n",
    "print(\"Car with highest horsepower:\", car_with_max_hp['name'])"
   ]
  },
  {
   "cell_type": "code",
   "execution_count": 11,
   "id": "40d7d5f4-ec1b-40e0-a5b0-a097689dabf8",
   "metadata": {},
   "outputs": [
    {
     "name": "stdout",
     "output_type": "stream",
     "text": [
      "Number of cars with mpg ≥ 35: 36\n"
     ]
    }
   ],
   "source": [
    "# 2. How many cars have mpg ≥ 35?\n",
    "total_count = (cars['mpg'] >= 35).sum()\n",
    "print(\"Number of cars with mpg ≥ 35:\", total_count)"
   ]
  },
  {
   "cell_type": "code",
   "execution_count": 12,
   "id": "4c0412e4-5faa-4550-85e1-03aee43fd3ae",
   "metadata": {},
   "outputs": [
    {
     "name": "stdout",
     "output_type": "stream",
     "text": [
      "usa\n"
     ]
    }
   ],
   "source": [
    "# 3. What is the most common origin for cars with horsepower > 100 and weight < 3000?\n",
    "filtered_cars = cars[(cars['horsepower'] > 100) & (cars['weight'] < 3000)]\n",
    "most_common_origin = filtered_cars['origin'].value_counts().idxmax()\n",
    "print(most_common_origin)"
   ]
  },
  {
   "cell_type": "code",
   "execution_count": 17,
   "id": "998d823a-0c32-4314-b5fb-9571058bd9e9",
   "metadata": {},
   "outputs": [
    {
     "name": "stdout",
     "output_type": "stream",
     "text": [
      "Empty DataFrame\n",
      "Columns: [mpg, cylinders, displacement, horsepower, weight, acceleration, model_year, origin, name, hp_per_weight]\n",
      "Index: []\n"
     ]
    }
   ],
   "source": [
    "japan_cars = cars[cars['origin'] == 'Japan']\n",
    "print(japan_cars)"
   ]
  },
  {
   "cell_type": "code",
   "execution_count": 20,
   "id": "fd4ed23f-e669-4191-a4e3-9c08e71c4908",
   "metadata": {},
   "outputs": [
    {
     "name": "stdout",
     "output_type": "stream",
     "text": [
      "Mean acceleration of Japanese cars: 16.17215189873418\n"
     ]
    },
    {
     "name": "stderr",
     "output_type": "stream",
     "text": [
      "C:\\Users\\Lakshya Gupta\\AppData\\Local\\Temp\\ipykernel_35104\\620937577.py:2: SettingWithCopyWarning: \n",
      "A value is trying to be set on a copy of a slice from a DataFrame.\n",
      "Try using .loc[row_indexer,col_indexer] = value instead\n",
      "\n",
      "See the caveats in the documentation: https://pandas.pydata.org/pandas-docs/stable/user_guide/indexing.html#returning-a-view-versus-a-copy\n",
      "  japanese_cars['acceleration'] = pd.to_numeric(japanese_cars['acceleration'], errors='coerce')\n"
     ]
    }
   ],
   "source": [
    "# 4. What is the mean acceleration of cars from Japan? (rounded to 2 decimals)\n",
    "japanese_cars = cars[cars['origin'] == 'japan']\n",
    "japanese_cars['acceleration'] = pd.to_numeric(japanese_cars['acceleration'], errors='coerce')\n",
    "mean_acceleration_japan = japanese_cars['acceleration'].mean()\n",
    "print(\"Mean acceleration of Japanese cars:\", mean_acceleration_japan)"
   ]
  },
  {
   "cell_type": "code",
   "execution_count": 22,
   "id": "315770d7-8f10-4981-8b4f-0ab2e9232bc0",
   "metadata": {},
   "outputs": [
    {
     "name": "stdout",
     "output_type": "stream",
     "text": [
      "80\n"
     ]
    }
   ],
   "source": [
    "# Which year had the highest average mpg?\n",
    "highest_avg_mpg_year = cars.groupby('model_year')['mpg'].mean().idxmax()\n",
    "print(highest_avg_mpg_year)"
   ]
  },
  {
   "cell_type": "code",
   "execution_count": 28,
   "id": "bb9afc2f-2b7d-4bfd-b3e2-9731a05bdbbe",
   "metadata": {},
   "outputs": [
    {
     "name": "stdout",
     "output_type": "stream",
     "text": [
      "                   name   mpg  horsepower  weight  hp_to_weight\n",
      "hp_per_weight                                                  \n",
      "0.050582       bmw 2002  26.0       113.0    2234      0.050582\n"
     ]
    }
   ],
   "source": [
    "\n",
    "median_mpg = cars['mpg'].median()\n",
    "\n",
    "above_median_mpg_cars = cars[cars['mpg'] > median_mpg].copy()\n",
    "\n",
    "above_median_mpg_cars['hp_to_weight'] = above_median_mpg_cars['horsepower'] / above_median_mpg_cars['weight']\n",
    "\n",
    "max_ratio = above_median_mpg_cars['hp_to_weight'].max()\n",
    "best_cars = above_median_mpg_cars[above_median_mpg_cars['hp_to_weight'] == max_ratio]\n",
    "\n",
    "# print(best_cars['name'])\n",
    "print(best_cars[['name', 'mpg', 'horsepower', 'weight', 'hp_to_weight']])"
   ]
  },
  {
   "cell_type": "code",
   "execution_count": 46,
   "id": "60d14db7-ca93-46f6-95dd-935cf166dd3f",
   "metadata": {},
   "outputs": [
    {
     "data": {
      "image/png": "[encoded data removed]",
      "text/plain": [
       "<Figure size 640x480 with 1 Axes>"
      ]
     },
     "metadata": {},
     "output_type": "display_data"
    }
   ],
   "source": [
    "# Design a multi-line plot using Matplotlib or Seaborn that shows the evolution of average mpg over the years, separately for each origin\n",
    "avg_mpg_by_year_origin = cars.groupby(['model_year', 'origin'])['mpg'].mean().reset_index()\n",
    "\n",
    "\n",
    "sns.lineplot(data=avg_mpg_by_year_origin, x='model_year', y='mpg', hue='origin', marker='o')\n",
    "\n",
    "# Plot customization\n",
    "plt.title('Evolution of Average MPG over the Years by Origin')\n",
    "plt.xlabel('Model Year')\n",
    "plt.ylabel('Average MPG')\n",
    "plt.legend(title='Origin')\n",
    "plt.grid(True)\n",
    "plt.show()"
   ]
  },
  {
   "cell_type": "code",
   "execution_count": 36,
   "id": "586822af-9e14-40ad-be2f-e82ba41d180e",
   "metadata": {},
   "outputs": [],
   "source": [
    "# Create a Seaborn scatterplot (or PairGrid) where:\n",
    "# X = horsepower\n",
    "\n",
    "# Y = weight\n",
    "\n",
    "# Color by: origin\n",
    "\n",
    "# Size by: mpg\n",
    "\n",
    "# Hue order = ['japan', 'europe', 'usa']\n",
    "\n",
    "# # Add meaningful plot titles and axis titles.\n",
    "\n",
    "cars['horsepower'] = pd.to_numeric(cars['horsepower'], errors='coerce')\n",
    "cars['weight'] = pd.to_numeric(cars['weight'], errors='coerce')"
   ]
  },
  {
   "cell_type": "code",
   "execution_count": 37,
   "id": "c5d2865b-f41e-4335-b1b1-ef3611836495",
   "metadata": {},
   "outputs": [],
   "source": [
    "cars_clean = cars.dropna(subset=['horsepower', 'weight'])"
   ]
  },
  {
   "cell_type": "code",
   "execution_count": 44,
   "id": "dd7306a2-e690-4895-a74e-9695306e7b3b",
   "metadata": {},
   "outputs": [
    {
     "data": {
      "image/png": "[encoded data removed]",
      "text/plain": [
       "<Figure size 640x480 with 1 Axes>"
      ]
     },
     "metadata": {},
     "output_type": "display_data"
    }
   ],
   "source": [
    "sns.scatterplot(\n",
    "    x='horsepower',\n",
    "    y='weight',\n",
    "    hue='origin',\n",
    "    size='mpg',\n",
    "    data=cars_clean,\n",
    "    hue_order=['japan', 'europe', 'usa'])\n",
    "\n",
    "plt.title('Horsepower vs Weight by Origin with MPG Size')\n",
    "plt.xlabel('Horsepower')\n",
    "plt.ylabel('Weight')\n",
    "plt.legend(title='Origin')\n",
    "plt.show()"
   ]
  },
  {
   "cell_type": "code",
   "execution_count": null,
   "id": "476ffdea-e0ef-4834-8c74-ddcf44f77fa6",
   "metadata": {},
   "outputs": [],
   "source": []
  }
 ],
 "metadata": {
  "kernelspec": {
   "display_name": "Python 3 (ipykernel)",
   "language": "python",
   "name": "python3"
  },
  "language_info": {
   "codemirror_mode": {
    "name": "ipython",
    "version": 3
   },
   "file_extension": ".py",
   "mimetype": "text/x-python",
   "name": "python",
   "nbconvert_exporter": "python",
   "pygments_lexer": "ipython3",
   "version": "3.13.2"
  }
 },
 "nbformat": 4,
 "nbformat_minor": 5
}
